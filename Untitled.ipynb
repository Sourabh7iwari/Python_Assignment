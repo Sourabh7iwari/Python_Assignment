{
 "cells": [
  {
   "cell_type": "code",
   "execution_count": 1,
   "id": "f2af35f3",
   "metadata": {},
   "outputs": [
    {
     "name": "stdout",
     "output_type": "stream",
     "text": [
      "Hello World\n"
     ]
    }
   ],
   "source": [
    "print(\"Hello World\")"
   ]
  },
  {
   "cell_type": "code",
   "execution_count": 2,
   "id": "9ec4095c",
   "metadata": {},
   "outputs": [
    {
     "name": "stdout",
     "output_type": "stream",
     "text": [
      "My self Anivesh Sharma\n"
     ]
    }
   ],
   "source": [
    "print(\"My self Anivesh Sharma\")"
   ]
  },
  {
   "cell_type": "code",
   "execution_count": 5,
   "id": "0259a1e1",
   "metadata": {},
   "outputs": [
    {
     "name": "stdout",
     "output_type": "stream",
     "text": [
      "10 12.3 Anivesh\n"
     ]
    }
   ],
   "source": [
    "print(10, 12.3, \"Anivesh\", )"
   ]
  },
  {
   "cell_type": "code",
   "execution_count": 8,
   "id": "83013803",
   "metadata": {},
   "outputs": [
    {
     "name": "stdout",
     "output_type": "stream",
     "text": [
      "10\n"
     ]
    },
    {
     "data": {
      "text/plain": [
       "(None, 12.3, 'Anivesh')"
      ]
     },
     "execution_count": 8,
     "metadata": {},
     "output_type": "execute_result"
    }
   ],
   "source": [
    "print(10), (12.3), (\"Anivesh\")"
   ]
  },
  {
   "cell_type": "code",
   "execution_count": 9,
   "id": "3b0716f6",
   "metadata": {},
   "outputs": [],
   "source": [
    "#is used to give a comment in program"
   ]
  },
  {
   "cell_type": "code",
   "execution_count": 15,
   "id": "b4e9064a",
   "metadata": {},
   "outputs": [
    {
     "ename": "SyntaxError",
     "evalue": "invalid syntax (2671850036.py, line 2)",
     "output_type": "error",
     "traceback": [
      "\u001b[1;36m  Cell \u001b[1;32mIn[15], line 2\u001b[1;36m\u001b[0m\n\u001b[1;33m    1. Small_case, Upper_case, digits\u001b[0m\n\u001b[1;37m       ^\u001b[0m\n\u001b[1;31mSyntaxError\u001b[0m\u001b[1;31m:\u001b[0m invalid syntax\n"
     ]
    }
   ],
   "source": [
    "#Variables\n",
    "1. Small_case, Upper_case, digits\n",
    "2. Never use inbuilt Keywords\n",
    "3. Special characters and it should not start with digit"
   ]
  },
  {
   "cell_type": "code",
   "execution_count": 16,
   "id": "229af4ad",
   "metadata": {},
   "outputs": [],
   "source": [
    "t = 45"
   ]
  },
  {
   "cell_type": "code",
   "execution_count": 17,
   "id": "8a1482a5",
   "metadata": {},
   "outputs": [
    {
     "data": {
      "text/plain": [
       "45"
      ]
     },
     "execution_count": 17,
     "metadata": {},
     "output_type": "execute_result"
    }
   ],
   "source": [
    "t"
   ]
  },
  {
   "cell_type": "code",
   "execution_count": 18,
   "id": "c2786821",
   "metadata": {},
   "outputs": [],
   "source": [
    "T = 42"
   ]
  },
  {
   "cell_type": "code",
   "execution_count": 19,
   "id": "58135b60",
   "metadata": {},
   "outputs": [
    {
     "data": {
      "text/plain": [
       "42"
      ]
     },
     "execution_count": 19,
     "metadata": {},
     "output_type": "execute_result"
    }
   ],
   "source": [
    "T"
   ]
  },
  {
   "cell_type": "code",
   "execution_count": 20,
   "id": "ee56d1af",
   "metadata": {},
   "outputs": [],
   "source": [
    "K_S = 21588"
   ]
  },
  {
   "cell_type": "code",
   "execution_count": 21,
   "id": "0d75df80",
   "metadata": {},
   "outputs": [
    {
     "data": {
      "text/plain": [
       "21588"
      ]
     },
     "execution_count": 21,
     "metadata": {},
     "output_type": "execute_result"
    }
   ],
   "source": [
    "K_S"
   ]
  },
  {
   "cell_type": "code",
   "execution_count": 23,
   "id": "5c38fd7a",
   "metadata": {},
   "outputs": [
    {
     "ename": "SyntaxError",
     "evalue": "invalid decimal literal (3724616107.py, line 1)",
     "output_type": "error",
     "traceback": [
      "\u001b[1;36m  Cell \u001b[1;32mIn[23], line 1\u001b[1;36m\u001b[0m\n\u001b[1;33m    1abc = 466\u001b[0m\n\u001b[1;37m    ^\u001b[0m\n\u001b[1;31mSyntaxError\u001b[0m\u001b[1;31m:\u001b[0m invalid decimal literal\n"
     ]
    }
   ],
   "source": [
    "1abc = 466"
   ]
  },
  {
   "cell_type": "code",
   "execution_count": 24,
   "id": "46282977",
   "metadata": {},
   "outputs": [],
   "source": [
    "abc1 = 466"
   ]
  },
  {
   "cell_type": "code",
   "execution_count": 25,
   "id": "c3b2d6e2",
   "metadata": {},
   "outputs": [
    {
     "data": {
      "text/plain": [
       "466"
      ]
     },
     "execution_count": 25,
     "metadata": {},
     "output_type": "execute_result"
    }
   ],
   "source": [
    "abc1"
   ]
  },
  {
   "cell_type": "code",
   "execution_count": 26,
   "id": "c3183945",
   "metadata": {},
   "outputs": [],
   "source": [
    "b = 100"
   ]
  },
  {
   "cell_type": "code",
   "execution_count": 27,
   "id": "dd5d84a0",
   "metadata": {},
   "outputs": [
    {
     "data": {
      "text/plain": [
       "int"
      ]
     },
     "execution_count": 27,
     "metadata": {},
     "output_type": "execute_result"
    }
   ],
   "source": [
    "type(b)"
   ]
  },
  {
   "cell_type": "code",
   "execution_count": 28,
   "id": "6e10e7bc",
   "metadata": {},
   "outputs": [],
   "source": [
    "f = 1.2"
   ]
  },
  {
   "cell_type": "code",
   "execution_count": 29,
   "id": "66fcf9ff",
   "metadata": {},
   "outputs": [
    {
     "data": {
      "text/plain": [
       "float"
      ]
     },
     "execution_count": 29,
     "metadata": {},
     "output_type": "execute_result"
    }
   ],
   "source": [
    "type(f)"
   ]
  },
  {
   "cell_type": "code",
   "execution_count": 30,
   "id": "ef2a5f99",
   "metadata": {},
   "outputs": [],
   "source": [
    "d = 'python is a fun'"
   ]
  },
  {
   "cell_type": "code",
   "execution_count": 31,
   "id": "0f76c6cc",
   "metadata": {},
   "outputs": [
    {
     "data": {
      "text/plain": [
       "str"
      ]
     },
     "execution_count": 31,
     "metadata": {},
     "output_type": "execute_result"
    }
   ],
   "source": [
    "type(d)"
   ]
  },
  {
   "cell_type": "code",
   "execution_count": 32,
   "id": "df7dbf2f",
   "metadata": {},
   "outputs": [],
   "source": [
    "n = True"
   ]
  },
  {
   "cell_type": "code",
   "execution_count": 33,
   "id": "3cfba806",
   "metadata": {},
   "outputs": [],
   "source": [
    "s = False"
   ]
  },
  {
   "cell_type": "code",
   "execution_count": 34,
   "id": "6547ecca",
   "metadata": {},
   "outputs": [
    {
     "data": {
      "text/plain": [
       "bool"
      ]
     },
     "execution_count": 34,
     "metadata": {},
     "output_type": "execute_result"
    }
   ],
   "source": [
    "type(n)"
   ]
  },
  {
   "cell_type": "code",
   "execution_count": 35,
   "id": "c0aa2b31",
   "metadata": {},
   "outputs": [
    {
     "data": {
      "text/plain": [
       "bool"
      ]
     },
     "execution_count": 35,
     "metadata": {},
     "output_type": "execute_result"
    }
   ],
   "source": [
    "type(s)"
   ]
  },
  {
   "cell_type": "code",
   "execution_count": 44,
   "id": "e4ae307f",
   "metadata": {},
   "outputs": [],
   "source": [
    "w = 1 + 5j"
   ]
  },
  {
   "cell_type": "code",
   "execution_count": 45,
   "id": "72ba7d08",
   "metadata": {},
   "outputs": [
    {
     "data": {
      "text/plain": [
       "complex"
      ]
     },
     "execution_count": 45,
     "metadata": {},
     "output_type": "execute_result"
    }
   ],
   "source": [
    "type(w)"
   ]
  },
  {
   "cell_type": "code",
   "execution_count": null,
   "id": "2e78bcf9",
   "metadata": {},
   "outputs": [],
   "source": []
  }
 ],
 "metadata": {
  "kernelspec": {
   "display_name": "Python 3 (ipykernel)",
   "language": "python",
   "name": "python3"
  },
  "language_info": {
   "codemirror_mode": {
    "name": "ipython",
    "version": 3
   },
   "file_extension": ".py",
   "mimetype": "text/x-python",
   "name": "python",
   "nbconvert_exporter": "python",
   "pygments_lexer": "ipython3",
   "version": "3.11.4"
  }
 },
 "nbformat": 4,
 "nbformat_minor": 5
}
